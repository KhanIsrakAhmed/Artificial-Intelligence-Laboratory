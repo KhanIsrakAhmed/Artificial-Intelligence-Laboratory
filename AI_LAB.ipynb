{
  "nbformat": 4,
  "nbformat_minor": 0,
  "metadata": {
    "colab": {
      "provenance": [],
      "authorship_tag": "ABX9TyOqwhj1pYUN3XtM5jjB6rv/",
      "include_colab_link": true
    },
    "kernelspec": {
      "name": "python3",
      "display_name": "Python 3"
    },
    "language_info": {
      "name": "python"
    }
  },
  "cells": [
    {
      "cell_type": "markdown",
      "metadata": {
        "id": "view-in-github",
        "colab_type": "text"
      },
      "source": [
        "<a href=\"https://colab.research.google.com/github/KhanIsrakAhmed/Artificial-Intelligence-Laboratory/blob/main/AI_LAB.ipynb\" target=\"_parent\"><img src=\"https://colab.research.google.com/assets/colab-badge.svg\" alt=\"Open In Colab\"/></a>"
      ]
    },
    {
      "cell_type": "markdown",
      "source": [
        "**Class 1**"
      ],
      "metadata": {
        "id": "vp3puRtWMZa6"
      }
    },
    {
      "cell_type": "markdown",
      "source": [
        "Console Output"
      ],
      "metadata": {
        "id": "rxCXJgfHog3v"
      }
    },
    {
      "cell_type": "code",
      "execution_count": null,
      "metadata": {
        "colab": {
          "base_uri": "https://localhost:8080/"
        },
        "id": "8Dy07PwnneHz",
        "outputId": "e5342930-49a0-409d-a627-a4d54fe312ef"
      },
      "outputs": [
        {
          "output_type": "stream",
          "name": "stdout",
          "text": [
            "Hello World\n"
          ]
        }
      ],
      "source": [
        "print('Hello World')\n"
      ]
    },
    {
      "cell_type": "code",
      "source": [
        "print(\"Hello\")\n",
        "print(\"World\")"
      ],
      "metadata": {
        "colab": {
          "base_uri": "https://localhost:8080/"
        },
        "id": "3Z2l3slronWn",
        "outputId": "d17b152e-1cbc-4695-af3e-48fccf47aa26"
      },
      "execution_count": null,
      "outputs": [
        {
          "output_type": "stream",
          "name": "stdout",
          "text": [
            "Hello\n",
            "World\n"
          ]
        }
      ]
    },
    {
      "cell_type": "code",
      "source": [
        "a = 10\n",
        "b = 2.5\n",
        "c = \"hello\"\n",
        "\n",
        "print(a)\n",
        "print(b, c)"
      ],
      "metadata": {
        "colab": {
          "base_uri": "https://localhost:8080/"
        },
        "id": "0JvAnu4Cos_Y",
        "outputId": "241ef441-f921-4181-b30c-fb5090208ddb"
      },
      "execution_count": null,
      "outputs": [
        {
          "output_type": "stream",
          "name": "stdout",
          "text": [
            "10\n",
            "2.5 hello\n"
          ]
        }
      ]
    },
    {
      "cell_type": "code",
      "source": [
        "# print without new line\n",
        "\n",
        "print(\"Hello\", end='>')\n",
        "print(\"World\")\n",
        "\n",
        "print(\"Hello\", end='')\n",
        "print(\"World\")\n",
        "\n",
        "print(\"Hello\", end=' ')\n",
        "print(\"World\")"
      ],
      "metadata": {
        "colab": {
          "base_uri": "https://localhost:8080/"
        },
        "id": "fdxBmDmEo1OI",
        "outputId": "06918f16-d22d-4255-f20c-c4199e6b4f55"
      },
      "execution_count": null,
      "outputs": [
        {
          "output_type": "stream",
          "name": "stdout",
          "text": [
            "Hello>World\n",
            "HelloWorld\n",
            "Hello World\n"
          ]
        }
      ]
    },
    {
      "cell_type": "code",
      "source": [
        "# Formatting the string\n",
        "a = 15\n",
        "\n",
        "# \"The value of a is 15\"\n",
        "print(\"The value of a is\", a)\n",
        "\n",
        "# \"The value of a=15\"\n",
        "print(\"The value of a={a}\")\n",
        "print(f\"The value of a={a}\")"
      ],
      "metadata": {
        "colab": {
          "base_uri": "https://localhost:8080/"
        },
        "id": "7TFr9AC-oXRg",
        "outputId": "dd6d81f4-1408-4b84-8d1e-d43b52e84a20"
      },
      "execution_count": null,
      "outputs": [
        {
          "output_type": "stream",
          "name": "stdout",
          "text": [
            "The value of a is 15\n",
            "The value of a={a}\n",
            "The value of a=15\n"
          ]
        }
      ]
    },
    {
      "cell_type": "markdown",
      "source": [
        "Console Input"
      ],
      "metadata": {
        "id": "5qE5l-Fcq9tQ"
      }
    },
    {
      "cell_type": "code",
      "source": [
        "x = input()\n",
        "print(x)\n",
        "\n",
        "x = input(\"Enter a value:\")\n",
        "print(x)\n",
        "\n"
      ],
      "metadata": {
        "colab": {
          "base_uri": "https://localhost:8080/"
        },
        "id": "Gylr3VHhq3mg",
        "outputId": "4708c4a5-410c-4a87-965a-480bd4c2e83a"
      },
      "execution_count": null,
      "outputs": [
        {
          "output_type": "stream",
          "name": "stdout",
          "text": [
            "10\n",
            "10\n",
            "Enter a value:15\n",
            "15\n"
          ]
        }
      ]
    },
    {
      "cell_type": "code",
      "source": [
        "x = input()\n",
        "y = input()\n",
        "\n",
        "print(x+y)"
      ],
      "metadata": {
        "colab": {
          "base_uri": "https://localhost:8080/"
        },
        "id": "TQlngMkSrsfj",
        "outputId": "7b154db6-ebcd-4cbf-fc0b-fd9ada32afd1"
      },
      "execution_count": null,
      "outputs": [
        {
          "output_type": "stream",
          "name": "stdout",
          "text": [
            "10\n",
            "20\n",
            "1020\n"
          ]
        }
      ]
    },
    {
      "cell_type": "code",
      "source": [
        "x = int(input())\n",
        "y = int(input())\n",
        "\n",
        "print(x+y)"
      ],
      "metadata": {
        "colab": {
          "base_uri": "https://localhost:8080/"
        },
        "id": "suemKIRIsBxp",
        "outputId": "8eb95111-9a47-4e46-ae8a-c5a6c3ba0ed6"
      },
      "execution_count": null,
      "outputs": [
        {
          "output_type": "stream",
          "name": "stdout",
          "text": [
            "10\n",
            "20\n",
            "30\n"
          ]
        }
      ]
    },
    {
      "cell_type": "code",
      "source": [
        "name = input(\"Enter your name:\")\n",
        "age = int(input(\"Enter your age:\"))\n",
        "height = float(input(\"Enter your height in m:\"))\n",
        "print(\"Name:\", name, \"Age:\", age, \"Height:\", height)"
      ],
      "metadata": {
        "colab": {
          "base_uri": "https://localhost:8080/"
        },
        "id": "n_LB42VWsUcL",
        "outputId": "8294535d-623d-4da8-d621-c3feff126512"
      },
      "execution_count": null,
      "outputs": [
        {
          "output_type": "stream",
          "name": "stdout",
          "text": [
            "Enter your name:Mr. D\n",
            "Enter your age:50\n",
            "Enter your height in m:1.72\n",
            "Name: Mr. D Age: 50 Height: 1.72\n"
          ]
        }
      ]
    },
    {
      "cell_type": "markdown",
      "source": [
        "Operators"
      ],
      "metadata": {
        "id": "51mBaqzdtGKp"
      }
    },
    {
      "cell_type": "code",
      "source": [
        "i = 5\n",
        "\n",
        "# i++, i--\n",
        "i = i + 1\n",
        "i += 1\n",
        "\n"
      ],
      "metadata": {
        "id": "owBpqUOKtGyB"
      },
      "execution_count": null,
      "outputs": []
    },
    {
      "cell_type": "code",
      "source": [
        "x = 2\n",
        "p = 5\n",
        "\n",
        "x ** p"
      ],
      "metadata": {
        "colab": {
          "base_uri": "https://localhost:8080/"
        },
        "id": "4KZNjTNvtbLp",
        "outputId": "e71ac533-5147-4feb-ab60-d93e2fef4844"
      },
      "execution_count": null,
      "outputs": [
        {
          "output_type": "execute_result",
          "data": {
            "text/plain": [
              "32"
            ]
          },
          "metadata": {},
          "execution_count": 21
        }
      ]
    },
    {
      "cell_type": "markdown",
      "source": [
        "Make a ft-in to m conversion calculator"
      ],
      "metadata": {
        "id": "JEp7olTSts5J"
      }
    },
    {
      "cell_type": "code",
      "source": [],
      "metadata": {
        "id": "v7ZSRs6vt1Ux"
      },
      "execution_count": null,
      "outputs": []
    },
    {
      "cell_type": "markdown",
      "source": [
        "Condition"
      ],
      "metadata": {
        "id": "ONZ4PYLet3G4"
      }
    },
    {
      "cell_type": "code",
      "source": [
        "x = 5\n",
        "\n",
        "# if(condition){\n",
        "# }\n",
        "\n",
        "if x%2==0:\n",
        "  print(\"even\")\n",
        "else:\n",
        "  print('odd')\n",
        "print(\"outside if-else\")"
      ],
      "metadata": {
        "colab": {
          "base_uri": "https://localhost:8080/"
        },
        "id": "XXceWtfKt4OK",
        "outputId": "90dfa7b1-5257-47fe-8d63-a2871036b027"
      },
      "execution_count": null,
      "outputs": [
        {
          "output_type": "stream",
          "name": "stdout",
          "text": [
            "odd\n",
            "outside if-else\n"
          ]
        }
      ]
    },
    {
      "cell_type": "code",
      "source": [
        "x = -7\n",
        "\n",
        "if x>0:\n",
        "  print('positive')\n",
        "elif x==0:\n",
        "  print('zero')\n",
        "else:\n",
        "  print('negative')\n",
        "\n"
      ],
      "metadata": {
        "colab": {
          "base_uri": "https://localhost:8080/"
        },
        "id": "UR8ja-h7xmeR",
        "outputId": "44304d27-f11f-4e00-97ea-25f87af57712"
      },
      "execution_count": null,
      "outputs": [
        {
          "output_type": "stream",
          "name": "stdout",
          "text": [
            "negative\n"
          ]
        }
      ]
    },
    {
      "cell_type": "code",
      "source": [
        "x = 15\n",
        "\n",
        "if 10<x and x<20:\n",
        "  print(f'{x} is between 10 and 20')\n",
        "\n",
        "if 10<x<20:\n",
        "  print(f'{x} is between 10 and 20')\n",
        "\n",
        "\n",
        "if x<10 or x>20:\n",
        "  print(f\"{x} is not between 10 and 20\")\n"
      ],
      "metadata": {
        "colab": {
          "base_uri": "https://localhost:8080/"
        },
        "id": "qI8amkVsyigJ",
        "outputId": "b328dad6-d516-407f-cd44-1242f16c67c6"
      },
      "execution_count": null,
      "outputs": [
        {
          "output_type": "stream",
          "name": "stdout",
          "text": [
            "15 is between 10 and 20\n"
          ]
        }
      ]
    },
    {
      "cell_type": "code",
      "source": [
        "# take an integer and check whether that is a leap year or not\n",
        "\n"
      ],
      "metadata": {
        "id": "xW9Xi81lzaDp"
      },
      "execution_count": null,
      "outputs": []
    },
    {
      "cell_type": "markdown",
      "source": [
        "Looping"
      ],
      "metadata": {
        "id": "ypn39d8Jzh45"
      }
    },
    {
      "cell_type": "code",
      "source": [
        "i=0\n",
        "# while(condition){\n",
        "# }\n",
        "\n",
        "while i<5:\n",
        "  print('hello')\n",
        "  i += 1"
      ],
      "metadata": {
        "colab": {
          "base_uri": "https://localhost:8080/"
        },
        "id": "vbDHxclRzkPy",
        "outputId": "22fcad70-a63e-4edd-ecc4-db084af38635"
      },
      "execution_count": null,
      "outputs": [
        {
          "output_type": "stream",
          "name": "stdout",
          "text": [
            "hello\n",
            "hello\n",
            "hello\n",
            "hello\n",
            "hello\n"
          ]
        }
      ]
    },
    {
      "cell_type": "code",
      "source": [
        "# for(int i=0; i<5; ++i){\n",
        "# }\n",
        "\n",
        "for i in range(5):\n",
        "  print(i)\n",
        "\n",
        "# for(int i=4; i<10; ++i)\n",
        "for i in range(4, 10):\n",
        "  print(i, end=' ')\n",
        "print()\n",
        "\n",
        "# for(int i=0; i<20; i+=2)\n",
        "for i in range(0, 20, 2):\n",
        "  print(i, end=' ')\n",
        "print()\n",
        "\n",
        "# for(int i=20; i>12; --i)\n",
        "for i in range(20, 12, -1):\n",
        "  print(i, end=' ')\n",
        "print()"
      ],
      "metadata": {
        "colab": {
          "base_uri": "https://localhost:8080/"
        },
        "id": "0FT4Rc_61dty",
        "outputId": "fc5a2827-206f-434a-91cf-f75bf1a22846"
      },
      "execution_count": null,
      "outputs": [
        {
          "output_type": "stream",
          "name": "stdout",
          "text": [
            "0\n",
            "1\n",
            "2\n",
            "3\n",
            "4\n",
            "4 5 6 7 8 9 \n",
            "0 2 4 6 8 10 12 14 16 18 \n",
            "20 19 18 17 16 15 14 13 \n"
          ]
        }
      ]
    },
    {
      "cell_type": "markdown",
      "source": [
        "###Practice problems for Basic Syntax, I/O, Condition, Looping"
      ],
      "metadata": {
        "id": "M5MTJF272keD"
      }
    },
    {
      "cell_type": "markdown",
      "source": [
        "**Multiples of 3**: Write a program that prints the numbers that are between 1 to 100 and multiples of three.\n",
        "\n",
        "**Multiples of 3 but not multiple of 5**: Write a program that prints the numbers that are between 1 to 100 and multiples of three but not divisible 5.\n",
        "\n",
        "**Palindrome Checker**: Write a program that checks if a given word or phrase is a palindrome. A palindrome is a word, phrase, number, or other sequence of characters that reads the same forward and backward, ignoring spaces and punctuation.\n",
        "\n",
        "**Fibonacci Sequence**: Write a program that generates the Fibonacci sequence up to a specified number of terms. The Fibonacci sequence starts with 0 and 1, and each subsequent number is the sum of the previous two.\n",
        "\n",
        "**Factorial Calculator**: Write a program that calculates the factorial of a given number. The factorial of a non-negative integer n is the product of all positive integers less than or equal to n.\n",
        "\n",
        "**Prime Number Checker**: Write a program that checks if a given number is prime. A prime number is a natural number greater than 1 that has no positive divisors other than 1 and itself."
      ],
      "metadata": {
        "id": "Hag8J05X2mAi"
      }
    },
    {
      "cell_type": "code",
      "source": [
        "'''\n",
        "n=3\n",
        "*\n",
        "**\n",
        "***\n",
        "\n",
        "n=4\n",
        "*\n",
        "**\n",
        "***\n",
        "****\n",
        "'''\n"
      ],
      "metadata": {
        "id": "ewrjWu3E2mzK"
      },
      "execution_count": null,
      "outputs": []
    },
    {
      "cell_type": "code",
      "source": [
        "'''\n",
        "n = 5\n",
        "*********\n",
        "*******\n",
        "*****\n",
        "***\n",
        "*\n",
        "\n",
        "n = 3\n",
        "*****\n",
        "***\n",
        "*\n",
        "'''\n"
      ],
      "metadata": {
        "id": "v8XvzTi28gfy"
      },
      "execution_count": null,
      "outputs": []
    },
    {
      "cell_type": "code",
      "source": [
        "'''\n",
        "n=3\n",
        "  *\n",
        " **\n",
        "***\n",
        "\n",
        "n=5\n",
        "    *\n",
        "   **\n",
        "  ***\n",
        " ****\n",
        "*****\n",
        "'''\n"
      ],
      "metadata": {
        "id": "Xo3QahjS8h1T"
      },
      "execution_count": null,
      "outputs": []
    },
    {
      "cell_type": "code",
      "source": [
        "for i in range(1, 100):\n",
        "  if i%3==0:\n",
        "    print(i, end=' ')\n",
        "\n",
        "print()\n",
        "for i in range(3, 100, 3):\n",
        "  print(i, end=' ')"
      ],
      "metadata": {
        "id": "RiLnwgJi8jui"
      },
      "execution_count": null,
      "outputs": []
    },
    {
      "cell_type": "code",
      "source": [
        "for i in range(1, 100):\n",
        "  if i%3==0 and i%5!=0:\n",
        "    print(i, end=' ')\n"
      ],
      "metadata": {
        "id": "2WRXLOfL8oPi"
      },
      "execution_count": null,
      "outputs": []
    },
    {
      "cell_type": "markdown",
      "source": [
        "**Class 2**"
      ],
      "metadata": {
        "id": "IP3QvdhMMNle"
      }
    },
    {
      "cell_type": "markdown",
      "source": [
        "List"
      ],
      "metadata": {
        "id": "WjU1OGsv8urD"
      }
    },
    {
      "cell_type": "code",
      "source": [
        "list1 = [10, 20, -6 , 90, 17]\n",
        "\n",
        "print(len(list1))\n",
        "list1[2]"
      ],
      "metadata": {
        "colab": {
          "base_uri": "https://localhost:8080/"
        },
        "id": "BfAu_FCp8sNr",
        "outputId": "b26cf180-bee4-4232-f48a-c2bd4f7a8779"
      },
      "execution_count": null,
      "outputs": [
        {
          "output_type": "stream",
          "name": "stdout",
          "text": [
            "5\n"
          ]
        },
        {
          "output_type": "execute_result",
          "data": {
            "text/plain": [
              "-6"
            ]
          },
          "metadata": {},
          "execution_count": 36
        }
      ]
    },
    {
      "cell_type": "code",
      "source": [
        "list1 = [10, 20, -6 , 90, 17]\n",
        "\n",
        "for i in range(len(list1)):\n",
        "  print(list1[i], end=' ')\n",
        "\n",
        "print()\n",
        "print(list1)"
      ],
      "metadata": {
        "colab": {
          "base_uri": "https://localhost:8080/"
        },
        "id": "I23P44tR9M7l",
        "outputId": "bc2003cd-ea33-49dc-bf42-c00baa5e0440"
      },
      "execution_count": null,
      "outputs": [
        {
          "output_type": "stream",
          "name": "stdout",
          "text": [
            "10 20 -6 90 17 \n",
            "[10, 20, -6, 90, 17]\n"
          ]
        }
      ]
    },
    {
      "cell_type": "code",
      "source": [
        "list1 = [10, 20, -5, 9, 0]\n",
        "\n",
        "list1.append(85)\n",
        "print(list1)\n",
        "\n",
        "list1.insert(2, 100)\n",
        "print(list1)\n",
        "\n",
        "list1.remove(9)\n",
        "print(list1)"
      ],
      "metadata": {
        "colab": {
          "base_uri": "https://localhost:8080/"
        },
        "id": "0NyqC6Rg9emK",
        "outputId": "2f3c3971-42af-467c-d11e-f2a187a6abf3"
      },
      "execution_count": null,
      "outputs": [
        {
          "output_type": "stream",
          "name": "stdout",
          "text": [
            "[10, 20, -5, 9, 0, 85]\n",
            "[10, 20, 100, -5, 9, 0, 85]\n",
            "[10, 20, 100, -5, 0, 85]\n"
          ]
        }
      ]
    },
    {
      "cell_type": "code",
      "source": [
        "list2 = [10, \"world\", 120, 20.5, \"hello\"]"
      ],
      "metadata": {
        "id": "F5z_OgP896Ha"
      },
      "execution_count": null,
      "outputs": []
    },
    {
      "cell_type": "code",
      "source": [
        "list1 = [10, 20, 100, -5, 9, 0, 85]\n",
        "\n",
        "sublist1 = list1[2:6] # slicing\n",
        "print(sublist1)"
      ],
      "metadata": {
        "colab": {
          "base_uri": "https://localhost:8080/"
        },
        "id": "o8SieU9L-BLr",
        "outputId": "1da02a7c-67f5-498a-8022-3c89274bb6e7"
      },
      "execution_count": null,
      "outputs": [
        {
          "output_type": "stream",
          "name": "stdout",
          "text": [
            "[100, -5, 9, 0]\n"
          ]
        }
      ]
    },
    {
      "cell_type": "code",
      "source": [
        "list1 = [10, 20, 100, -5, 9, 0, 85]\n",
        "print(list1[2])\n",
        "print(list1[-2])"
      ],
      "metadata": {
        "colab": {
          "base_uri": "https://localhost:8080/"
        },
        "id": "HsjVOCRB-RbT",
        "outputId": "eb1ba0eb-999a-47d3-d552-bbb4b842161b"
      },
      "execution_count": null,
      "outputs": [
        {
          "output_type": "stream",
          "name": "stdout",
          "text": [
            "100\n",
            "0\n"
          ]
        }
      ]
    },
    {
      "cell_type": "code",
      "source": [
        "list1 = [10, 20, 100, -5, 9, 0, 85]\n",
        "\n",
        "list1.sort()\n",
        "print(list1)"
      ],
      "metadata": {
        "colab": {
          "base_uri": "https://localhost:8080/"
        },
        "id": "vXC_tsjwukat",
        "outputId": "678b6de6-03e4-43d0-a6d4-7208ad19d752"
      },
      "execution_count": null,
      "outputs": [
        {
          "output_type": "stream",
          "name": "stdout",
          "text": [
            "[-5, 0, 9, 10, 20, 85, 100]\n"
          ]
        }
      ]
    },
    {
      "cell_type": "code",
      "source": [
        "list1 = [10, 20, 100, -5, 9, 0, 85]\n",
        "\n",
        "list1.sort(reverse=True)\n",
        "print(list1)"
      ],
      "metadata": {
        "colab": {
          "base_uri": "https://localhost:8080/"
        },
        "id": "psKdvYdIuvdP",
        "outputId": "e9f4148e-02ed-44fb-9ade-7773c8fa2209"
      },
      "execution_count": null,
      "outputs": [
        {
          "output_type": "stream",
          "name": "stdout",
          "text": [
            "[100, 85, 20, 10, 9, 0, -5]\n"
          ]
        }
      ]
    },
    {
      "cell_type": "code",
      "source": [
        "list1 = [10, 11, -5]\n",
        "list2 = [5, -6, 1]\n",
        "\n",
        "list1 + list2"
      ],
      "metadata": {
        "colab": {
          "base_uri": "https://localhost:8080/"
        },
        "id": "niw_7DwdvBZ8",
        "outputId": "23d8d3ed-e7a7-420b-e7a6-52af94ab3c2b"
      },
      "execution_count": null,
      "outputs": [
        {
          "output_type": "execute_result",
          "data": {
            "text/plain": [
              "[10, 11, -5, 5, -6, 1]"
            ]
          },
          "metadata": {},
          "execution_count": 3
        }
      ]
    },
    {
      "cell_type": "code",
      "source": [
        "list1 = [10, 11, -5]\n",
        "list2 = [5, -6, 1]\n",
        "\n",
        "list1.extend(list2)\n",
        "list1"
      ],
      "metadata": {
        "colab": {
          "base_uri": "https://localhost:8080/"
        },
        "id": "kzkcKl3vvFe3",
        "outputId": "fbca1840-c2c3-4aa4-b3db-83c997056e5d"
      },
      "execution_count": null,
      "outputs": [
        {
          "output_type": "execute_result",
          "data": {
            "text/plain": [
              "[10, 11, -5, 5, -6, 1]"
            ]
          },
          "metadata": {},
          "execution_count": 6
        }
      ]
    },
    {
      "cell_type": "markdown",
      "source": [
        "Function"
      ],
      "metadata": {
        "id": "Bgnv-J8LvPB3"
      }
    },
    {
      "cell_type": "code",
      "source": [
        "# int functionname(int x, float y){\n",
        "#     return 0;\n",
        "# }\n",
        "\n",
        "def functionname(x, y):\n",
        "  return 0"
      ],
      "metadata": {
        "id": "cvQWRU17vQOz"
      },
      "execution_count": null,
      "outputs": []
    },
    {
      "cell_type": "code",
      "source": [
        "def printHello():\n",
        "  print('hello')\n",
        "\n",
        "printHello()"
      ],
      "metadata": {
        "colab": {
          "base_uri": "https://localhost:8080/"
        },
        "id": "5nFywHzywmfY",
        "outputId": "9cd066f4-73f6-418e-e960-b7da81a8d1a5"
      },
      "execution_count": null,
      "outputs": [
        {
          "output_type": "stream",
          "name": "stdout",
          "text": [
            "hello\n"
          ]
        }
      ]
    },
    {
      "cell_type": "code",
      "source": [
        "def squarefn(x):\n",
        "  return x*x\n",
        "\n",
        "y = squarefn(10)\n",
        "print(y)"
      ],
      "metadata": {
        "colab": {
          "base_uri": "https://localhost:8080/"
        },
        "id": "2nV4IcO1xaZE",
        "outputId": "77942c61-229c-4fa5-d087-069a70a99377"
      },
      "execution_count": null,
      "outputs": [
        {
          "output_type": "stream",
          "name": "stdout",
          "text": [
            "100\n"
          ]
        }
      ]
    },
    {
      "cell_type": "code",
      "source": [
        "def isPrime(n):\n",
        "  for i in range(2, n):\n",
        "    if n%i==0:\n",
        "      return False\n",
        "  return True\n",
        "\n",
        "isPrime(73)\n",
        "isPrime(86)"
      ],
      "metadata": {
        "colab": {
          "base_uri": "https://localhost:8080/"
        },
        "id": "4PckJCikx2_c",
        "outputId": "6d3cdf31-6b75-4daf-e6a5-2c14b7af452b"
      },
      "execution_count": null,
      "outputs": [
        {
          "output_type": "execute_result",
          "data": {
            "text/plain": [
              "True"
            ]
          },
          "metadata": {},
          "execution_count": 16
        }
      ]
    },
    {
      "cell_type": "code",
      "source": [
        "# Default Arguments\n",
        "def printInfo(name, age='N/A', cgpa='N/A'):\n",
        "  print(f'Name: {name}, Age: {age}, CGPA: {cgpa}')\n",
        "\n",
        "printInfo(\"Mr.Z\", 35, 3.87)\n",
        "printInfo(\"Mr.Z\", 35)\n",
        "printInfo(\"Mr.Z\")\n",
        "# printInfo()\n",
        "\n"
      ],
      "metadata": {
        "colab": {
          "base_uri": "https://localhost:8080/"
        },
        "id": "CzER-5hrwuKu",
        "outputId": "d0fe55a9-85c6-4eaf-9d83-eb217643740b"
      },
      "execution_count": null,
      "outputs": [
        {
          "output_type": "stream",
          "name": "stdout",
          "text": [
            "Name: Mr.Z, Age: 35, CGPA: 3.87\n",
            "Name: Mr.Z, Age: 35, CGPA: N/A\n",
            "Name: Mr.Z, Age: N/A, CGPA: N/A\n"
          ]
        }
      ]
    },
    {
      "cell_type": "code",
      "source": [
        "# Keyword/Named Arguments\n",
        "def printInfo(name, age, cgpa='N/A'):\n",
        "  print(f'Name: {name}, Age: {age}, CGPA: {cgpa}')\n",
        "\n",
        "printInfo(age=35, cgpa=3.87, name=\"Mr.Z\")\n",
        "printInfo(age=35, name=\"Mr.Z\")\n",
        "# printInfo()\n",
        "\n"
      ],
      "metadata": {
        "colab": {
          "base_uri": "https://localhost:8080/"
        },
        "id": "LOgV1y6O1pmR",
        "outputId": "8062700a-8207-4b80-e7cf-e7c2cf5f24a0"
      },
      "execution_count": null,
      "outputs": [
        {
          "output_type": "stream",
          "name": "stdout",
          "text": [
            "Name: Mr.Z, Age: 35, CGPA: 3.87\n",
            "Name: Mr.Z, Age: 35, CGPA: N/A\n"
          ]
        }
      ]
    },
    {
      "cell_type": "markdown",
      "source": [
        "Tuple"
      ],
      "metadata": {
        "id": "v_fRCo7M2ZMe"
      }
    },
    {
      "cell_type": "code",
      "source": [
        "t1 = (1,2,3)\n",
        "\n",
        "print(t1)\n",
        "\n",
        "x, y, z = t1\n",
        "\n",
        "print(x, y, z)\n",
        "\n",
        "t1[2]"
      ],
      "metadata": {
        "colab": {
          "base_uri": "https://localhost:8080/"
        },
        "id": "dHQmhMib2aPE",
        "outputId": "b3c07026-2117-4a34-c0ef-ccda9277a452"
      },
      "execution_count": null,
      "outputs": [
        {
          "output_type": "stream",
          "name": "stdout",
          "text": [
            "(1, 2, 3)\n",
            "1 2 3\n"
          ]
        },
        {
          "output_type": "execute_result",
          "data": {
            "text/plain": [
              "3"
            ]
          },
          "metadata": {},
          "execution_count": 28
        }
      ]
    },
    {
      "cell_type": "markdown",
      "source": [
        "Dictionary"
      ],
      "metadata": {
        "id": "ZaW2_HJW209l"
      }
    },
    {
      "cell_type": "code",
      "source": [
        "name_dict = {\n",
        "    \"joseph\": 3.85,\n",
        "    \"alex\": 3.2,\n",
        "    \"john\": 3.9,\n",
        "    \"jane\": 3.5\n",
        "}\n",
        "\n",
        "print(name_dict[\"joseph\"])\n",
        "print(name_dict[\"john\"])\n",
        "\n",
        "if \"jane\" in name_dict:\n",
        "  print(\"jane exists\")\n",
        "if \"doe\" in name_dict:\n",
        "  print(\"doe exists\")\n",
        "\n",
        "name_dict[\"doe\"] = 3.65\n",
        "print(name_dict)\n",
        "\n",
        "if \"jane\" in name_dict:\n",
        "  print(\"jane exists\")\n",
        "if \"doe\" in name_dict:\n",
        "  print(\"doe exists\")\n",
        "\n",
        "name_dict.pop(\"jane\")\n",
        "print(name_dict)\n",
        "\n",
        "if \"jane\" in name_dict:\n",
        "  print(\"jane exists\")\n",
        "if \"doe\" in name_dict:\n",
        "  print(\"doe exists\")\n"
      ],
      "metadata": {
        "colab": {
          "base_uri": "https://localhost:8080/"
        },
        "id": "9iz2x20g21U0",
        "outputId": "d42d392e-2896-4db3-ed41-639c5faace85"
      },
      "execution_count": null,
      "outputs": [
        {
          "output_type": "stream",
          "name": "stdout",
          "text": [
            "3.85\n",
            "3.9\n",
            "jane exists\n",
            "{'joseph': 3.85, 'alex': 3.2, 'john': 3.9, 'jane': 3.5, 'doe': 3.65}\n",
            "jane exists\n",
            "doe exists\n",
            "{'joseph': 3.85, 'alex': 3.2, 'john': 3.9, 'doe': 3.65}\n",
            "doe exists\n"
          ]
        }
      ]
    },
    {
      "cell_type": "code",
      "source": [
        "name_dict = {\n",
        "    \"joseph\": 3.85,\n",
        "    \"alex\": 3.2,\n",
        "    \"john\": 3.9,\n",
        "    \"jane\": 3.5\n",
        "}\n",
        "\n",
        "for k in name_dict.keys():\n",
        "  print(k, '->', name_dict[k])\n",
        "\n",
        "for k,v in name_dict.items():\n",
        "  print(k, '->', v)"
      ],
      "metadata": {
        "colab": {
          "base_uri": "https://localhost:8080/"
        },
        "id": "AbLkJuQU3-Ad",
        "outputId": "024bbbb0-a127-45dc-8fd3-80a596b21851"
      },
      "execution_count": null,
      "outputs": [
        {
          "output_type": "stream",
          "name": "stdout",
          "text": [
            "joseph -> 3.85\n",
            "alex -> 3.2\n",
            "john -> 3.9\n",
            "jane -> 3.5\n",
            "joseph -> 3.85\n",
            "alex -> 3.2\n",
            "john -> 3.9\n",
            "jane -> 3.5\n"
          ]
        }
      ]
    },
    {
      "cell_type": "code",
      "source": [
        "list_int = [3, 4, 3, 0, 1, 3, 3, 4, 2, 7, 8, 7]\n",
        "\n",
        "count_dict = {}\n",
        "\n",
        "\n",
        "for v in list_int:\n",
        "  if v in count_dict:\n",
        "    count_dict[v] += 1\n",
        "  else:\n",
        "    count_dict[v] = 1\n",
        "\n",
        "print(count_dict)"
      ],
      "metadata": {
        "colab": {
          "base_uri": "https://localhost:8080/"
        },
        "id": "ZQFirSCS5RBV",
        "outputId": "19ae5fae-99c3-4a2f-a1c7-2ba68a2b2aff"
      },
      "execution_count": null,
      "outputs": [
        {
          "output_type": "stream",
          "name": "stdout",
          "text": [
            "{3: 4, 4: 2, 0: 1, 1: 1, 2: 1, 7: 2, 8: 1}\n"
          ]
        }
      ]
    },
    {
      "cell_type": "code",
      "source": [
        "ar = [10, -5, 455, 299, -50, 365, 500, 75]\n",
        "print(max(ar))\n",
        "print(min(ar))\n"
      ],
      "metadata": {
        "colab": {
          "base_uri": "https://localhost:8080/"
        },
        "id": "ppkNpZh276ym",
        "outputId": "ac0d58a8-3be5-428a-c62d-7ae7c0aeee2d"
      },
      "execution_count": null,
      "outputs": [
        {
          "output_type": "stream",
          "name": "stdout",
          "text": [
            "500\n",
            "-50\n"
          ]
        }
      ]
    },
    {
      "cell_type": "markdown",
      "source": [
        "public class Student {\n",
        "    String first_name;\n",
        "    String last_name;\n",
        "    double cgpa;\n",
        "    int age;\n",
        "\n",
        "    Student(String fname, String lname, double cgpa, int age){\n",
        "        first_name = fname;\n",
        "        last_name = lname;\n",
        "        this.cgpa = cgpa;\n",
        "        this.age = age;\n",
        "    }\n",
        "\n",
        "    void printFullname(){\n",
        "        println(first_name + last_name)\n",
        "        println(this.first_name + this.last_name)\n",
        "    }\n",
        "}\n",
        "\n",
        "obj = new Student(\"A\", \"B\", 3.8, 22)"
      ],
      "metadata": {
        "id": "X_XmC3lr7_3W"
      }
    },
    {
      "cell_type": "code",
      "source": [
        "class Student:\n",
        "  def __init__(self, fname, lname, cgpa, age):\n",
        "    self.first_name = fname\n",
        "    self.last_name = lname\n",
        "    self.cgpa = cgpa\n",
        "    self.age = age\n",
        "\n",
        "  def printFullName(self):\n",
        "    print(self.first_name + ' ' + self.last_name)\n",
        "\n",
        "obj = Student(\"Mr.\", \"Z\", 3.88, 45)\n",
        "obj.printFullName()\n",
        "\n",
        "obj.first_name = \"Ms.\"\n",
        "obj.printFullName()"
      ],
      "metadata": {
        "colab": {
          "base_uri": "https://localhost:8080/"
        },
        "id": "RiuaIpVX8NHu",
        "outputId": "775805ea-1550-4692-ce12-72746db8a99f"
      },
      "execution_count": null,
      "outputs": [
        {
          "output_type": "stream",
          "name": "stdout",
          "text": [
            "Mr. Z\n",
            "Ms. Z\n"
          ]
        }
      ]
    },
    {
      "cell_type": "markdown",
      "source": [
        "###NumPy"
      ],
      "metadata": {
        "id": "gBPJOWck95sO"
      }
    },
    {
      "cell_type": "code",
      "source": [
        "import numpy as np\n",
        "\n",
        "a = np.array([5, -2, 15, 90])\n",
        "a"
      ],
      "metadata": {
        "colab": {
          "base_uri": "https://localhost:8080/"
        },
        "id": "B3JMv-oA98AQ",
        "outputId": "8db9183a-8d47-4207-d41d-0475b53cc579"
      },
      "execution_count": null,
      "outputs": [
        {
          "output_type": "execute_result",
          "data": {
            "text/plain": [
              "array([ 5, -2, 15, 90])"
            ]
          },
          "metadata": {},
          "execution_count": 46
        }
      ]
    },
    {
      "cell_type": "code",
      "source": [
        "a = np.array([21,2,-35,-4,5,66,-72,8,9])\n",
        "\n",
        "b = np.array([[1, 4],\n",
        "              [6, 2],\n",
        "              [3, 5]])\n",
        "\n",
        "print(a.shape)\n",
        "print(b.shape)\n",
        "r,c = b.shape\n",
        "print(r,c)"
      ],
      "metadata": {
        "colab": {
          "base_uri": "https://localhost:8080/"
        },
        "id": "wYG_2QolD_AX",
        "outputId": "51b3baad-de48-44a8-c4a6-555614d31e07"
      },
      "execution_count": null,
      "outputs": [
        {
          "output_type": "stream",
          "name": "stdout",
          "text": [
            "(9,)\n",
            "(3, 2)\n",
            "3 2\n"
          ]
        }
      ]
    },
    {
      "cell_type": "code",
      "source": [
        "a = np.array([21,2,-35,-4,5,66,-72,8,9])\n",
        "\n",
        "b = np.array([[1, 4],\n",
        "              [6, 2],\n",
        "              [3, 5]])\n",
        "\n",
        "print(a.max())\n",
        "print(b.max())\n",
        "\n",
        "print(\"Column Wise\", b.max(axis = 0))\n",
        "print(\"Row Wise\", b.max(axis = 1))\n",
        "\n",
        "print(\"Column Wise\", b.min(axis = 0))\n",
        "print(\"Row Wise\", b.min(axis = 1))\n",
        "\n",
        "print(\"Column Wise\", b.sum(axis = 0))\n",
        "print(\"Row Wise\", b.sum(axis = 1))\n",
        "\n",
        "print(\"Column Wise\", b.mean(axis = 0))\n",
        "print(\"Row Wise\", b.mean(axis = 1))"
      ],
      "metadata": {
        "colab": {
          "base_uri": "https://localhost:8080/"
        },
        "id": "_9ET4OiTEYhi",
        "outputId": "4fdedda3-e65b-4a77-f6ab-ea38420fbf70"
      },
      "execution_count": null,
      "outputs": [
        {
          "output_type": "stream",
          "name": "stdout",
          "text": [
            "66\n",
            "6\n",
            "Column Wise [6 5]\n",
            "Row Wise [4 6 5]\n",
            "Column Wise [1 2]\n",
            "Row Wise [1 2 3]\n",
            "Column Wise [10 11]\n",
            "Row Wise [5 8 8]\n",
            "Column Wise [3.33333333 3.66666667]\n",
            "Row Wise [2.5 4.  4. ]\n"
          ]
        }
      ]
    },
    {
      "cell_type": "code",
      "source": [
        "a = np.array([[1,5,3],\n",
        "              [4,2,6]])\n",
        "\n",
        "b = np.array([[9,2,1],\n",
        "              [6,1,0]])\n",
        "\n",
        "\n",
        "print(a+b)\n",
        "print(a-b)\n",
        "print(a*b)\n",
        "print(a/b)"
      ],
      "metadata": {
        "colab": {
          "base_uri": "https://localhost:8080/"
        },
        "id": "9IrKDFKIFKvo",
        "outputId": "192808bc-7651-4891-9cfa-7355aecdddc4"
      },
      "execution_count": null,
      "outputs": [
        {
          "output_type": "stream",
          "name": "stdout",
          "text": [
            "[[10  7  4]\n",
            " [10  3  6]]\n",
            "[[-8  3  2]\n",
            " [-2  1  6]]\n",
            "[[ 9 10  3]\n",
            " [24  2  0]]\n",
            "[[0.11111111 2.5        3.        ]\n",
            " [0.66666667 2.                inf]]\n"
          ]
        },
        {
          "output_type": "stream",
          "name": "stderr",
          "text": [
            "<ipython-input-53-cb2035a12d3c>:11: RuntimeWarning: divide by zero encountered in divide\n",
            "  print(a/b)\n"
          ]
        }
      ]
    },
    {
      "cell_type": "code",
      "source": [
        "a = np.array([[1,2,3],\n",
        "              [4,5,6]])\n",
        "\n",
        "b = np.array([[1,2,3],\n",
        "              [4,5,6]])\n",
        "\n",
        "print(b.T)\n",
        "print(b.T.shape)\n",
        "\n",
        "c = np.matmul(a, b.T)\n",
        "print(c)"
      ],
      "metadata": {
        "colab": {
          "base_uri": "https://localhost:8080/"
        },
        "id": "e65yDgDkFjuA",
        "outputId": "ba436417-3cd1-4d99-9580-e0027727dac1"
      },
      "execution_count": null,
      "outputs": [
        {
          "output_type": "stream",
          "name": "stdout",
          "text": [
            "[[1 4]\n",
            " [2 5]\n",
            " [3 6]]\n",
            "(3, 2)\n",
            "[[14 32]\n",
            " [32 77]]\n"
          ]
        }
      ]
    },
    {
      "cell_type": "code",
      "source": [
        "a = np.array([21,2,-35,-4,5,66,-72,8,9])\n",
        "\n",
        "b = np.array([[1, 4],\n",
        "              [6, 2],\n",
        "              [3, 5]])\n",
        "\n",
        "print(a.argmax())\n",
        "print(b.argmax())\n",
        "\n",
        "print(\"Column Wise\", b.argmax(axis = 0))\n",
        "print(\"Row Wise\", b.argmax(axis = 1))\n"
      ],
      "metadata": {
        "colab": {
          "base_uri": "https://localhost:8080/"
        },
        "id": "rULvuZTEGBwv",
        "outputId": "1b42284b-6eb5-412b-f8a9-f11cf22bdcca"
      },
      "execution_count": null,
      "outputs": [
        {
          "output_type": "stream",
          "name": "stdout",
          "text": [
            "5\n",
            "2\n",
            "Column Wise [1 2]\n",
            "Row Wise [1 0 1]\n"
          ]
        }
      ]
    },
    {
      "cell_type": "code",
      "source": [
        "# Broadcasting\n",
        "\n",
        "a = np.array(\n",
        "    [[1,2],\n",
        "     [3,4]]\n",
        ")\n",
        "b = np.array(\n",
        "    [2,3]\n",
        ")\n",
        "\n",
        "a+b"
      ],
      "metadata": {
        "colab": {
          "base_uri": "https://localhost:8080/"
        },
        "id": "zaTJpn0jGuVw",
        "outputId": "c6672fdb-dea9-4f1c-ff02-760f5538d8d8"
      },
      "execution_count": null,
      "outputs": [
        {
          "output_type": "execute_result",
          "data": {
            "text/plain": [
              "array([[3, 5],\n",
              "       [5, 7]])"
            ]
          },
          "metadata": {},
          "execution_count": 57
        }
      ]
    },
    {
      "cell_type": "code",
      "source": [
        "b = np.array([[1, 4, 9, 10],\n",
        "              [6, 2, -1, -8],\n",
        "              [3, -5, 2, 15],\n",
        "              [31, 5, 12, -5]])\n",
        "\n",
        "\n",
        "print(b[1][2])\n",
        "print(b[0:2]) # first two rows\n",
        "print(b[0:2, :]) # first two rows\n",
        "print(b[:, 1:3]) # middle two columns\n",
        "print(b[:, -1]) # last column\n",
        "print(b[:, -2:]) # last two columns\n",
        "print(b[:, 2:]) # after first two columns\n",
        "print(b[1:3, 1:4]) # middle 4 elements\n"
      ],
      "metadata": {
        "colab": {
          "base_uri": "https://localhost:8080/"
        },
        "id": "7ff2-dj9HP-X",
        "outputId": "09562eef-4f0e-441e-bfe0-678904597910"
      },
      "execution_count": null,
      "outputs": [
        {
          "output_type": "stream",
          "name": "stdout",
          "text": [
            "-1\n",
            "[[ 1  4  9 10]\n",
            " [ 6  2 -1 -8]]\n",
            "[[ 1  4  9 10]\n",
            " [ 6  2 -1 -8]]\n",
            "[[ 4  9]\n",
            " [ 2 -1]\n",
            " [-5  2]\n",
            " [ 5 12]]\n",
            "[10 -8 15 -5]\n"
          ]
        }
      ]
    },
    {
      "cell_type": "code",
      "source": [
        "a = np.array([3, -5, 2, -8, 9, 0, 7])\n",
        "\n",
        "print(a.shape)\n",
        "\n",
        "a.reshape((1, 7))\n",
        "a.reshape((7, 1))"
      ],
      "metadata": {
        "colab": {
          "base_uri": "https://localhost:8080/"
        },
        "id": "NCRDJL0RIoou",
        "outputId": "c2ba9b8f-5432-449c-9e78-7806bb2e5420"
      },
      "execution_count": null,
      "outputs": [
        {
          "output_type": "stream",
          "name": "stdout",
          "text": [
            "(7,)\n"
          ]
        },
        {
          "output_type": "execute_result",
          "data": {
            "text/plain": [
              "array([[ 3],\n",
              "       [-5],\n",
              "       [ 2],\n",
              "       [-8],\n",
              "       [ 9],\n",
              "       [ 0],\n",
              "       [ 7]])"
            ]
          },
          "metadata": {},
          "execution_count": 63
        }
      ]
    },
    {
      "cell_type": "code",
      "source": [
        "a = np.array([3, -5, 2, -8])\n",
        "\n",
        "print(a.shape)\n",
        "\n",
        "a.reshape((2, 2))\n",
        "a.reshape((2, 2)).T"
      ],
      "metadata": {
        "colab": {
          "base_uri": "https://localhost:8080/"
        },
        "id": "JeodUg1cJAdm",
        "outputId": "2e4a2977-faea-4d81-b2bb-7c2ef8af03a7"
      },
      "execution_count": null,
      "outputs": [
        {
          "output_type": "stream",
          "name": "stdout",
          "text": [
            "(4,)\n"
          ]
        },
        {
          "output_type": "execute_result",
          "data": {
            "text/plain": [
              "array([[ 3, -5],\n",
              "       [ 2, -8]])"
            ]
          },
          "metadata": {},
          "execution_count": 66
        }
      ]
    },
    {
      "cell_type": "markdown",
      "source": [
        "Filtering"
      ],
      "metadata": {
        "id": "oXGPec2hJXUJ"
      }
    },
    {
      "cell_type": "code",
      "source": [
        "a = np.array([3, -5, 2, -8, 9, 0, 7])\n",
        "\n",
        "print(\"a\", a)\n",
        "\n",
        "print(\"a[[True, False, False, True, True, False, True]]\", a[[True, False, False, True, True, False, True]])\n",
        "\n",
        "print(\"a>5\", a>5)\n",
        "\n",
        "print(\"a[a>5]\", a[a>5])\n",
        "print(\"a[a<2]\", a[a<2])\n"
      ],
      "metadata": {
        "colab": {
          "base_uri": "https://localhost:8080/"
        },
        "id": "jnbKg87kJXp_",
        "outputId": "b5a414bb-8fa0-49ad-eaf4-6d4d899d297a"
      },
      "execution_count": null,
      "outputs": [
        {
          "output_type": "stream",
          "name": "stdout",
          "text": [
            "a [ 3 -5  2 -8  9  0  7]\n",
            "a[[True, False, False, True, True, False, True]] [ 3 -8  9  7]\n",
            "a>5 [False False False False  True False  True]\n",
            "a[a>5] [9 7]\n",
            "a[a<2] [-5 -8  0]\n"
          ]
        }
      ]
    }
  ]
}