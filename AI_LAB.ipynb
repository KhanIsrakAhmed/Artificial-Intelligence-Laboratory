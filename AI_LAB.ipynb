{
  "cells": [
    {
      "cell_type": "markdown",
      "metadata": {
        "colab_type": "text",
        "id": "view-in-github"
      },
      "source": [
        "<a href=\"https://colab.research.google.com/github/KhanIsrakAhmed/Artificial-Intelligence-Laboratory/blob/main/AI_LAB.ipynb\" target=\"_parent\"><img src=\"https://colab.research.google.com/assets/colab-badge.svg\" alt=\"Open In Colab\"/></a>"
      ]
    },
    {
      "cell_type": "markdown",
      "metadata": {
        "id": "vp3puRtWMZa6"
      },
      "source": [
        "**Class 1**"
      ]
    },
    {
      "cell_type": "markdown",
      "metadata": {
        "id": "rxCXJgfHog3v"
      },
      "source": [
        "Console Output"
      ]
    },
    {
      "cell_type": "code",
      "execution_count": null,
      "metadata": {
        "colab": {
          "base_uri": "https://localhost:8080/"
        },
        "id": "8Dy07PwnneHz",
        "outputId": "e5342930-49a0-409d-a627-a4d54fe312ef"
      },
      "outputs": [
        {
          "name": "stdout",
          "output_type": "stream",
          "text": [
            "Hello World\n"
          ]
        }
      ],
      "source": [
        "print('Hello World')\n"
      ]
    },
    {
      "cell_type": "code",
      "execution_count": null,
      "metadata": {
        "colab": {
          "base_uri": "https://localhost:8080/"
        },
        "id": "3Z2l3slronWn",
        "outputId": "d17b152e-1cbc-4695-af3e-48fccf47aa26"
      },
      "outputs": [
        {
          "name": "stdout",
          "output_type": "stream",
          "text": [
            "Hello\n",
            "World\n"
          ]
        }
      ],
      "source": [
        "print(\"Hello\")\n",
        "print(\"World\")"
      ]
    },
    {
      "cell_type": "code",
      "execution_count": null,
      "metadata": {
        "colab": {
          "base_uri": "https://localhost:8080/"
        },
        "id": "0JvAnu4Cos_Y",
        "outputId": "241ef441-f921-4181-b30c-fb5090208ddb"
      },
      "outputs": [
        {
          "name": "stdout",
          "output_type": "stream",
          "text": [
            "10\n",
            "2.5 hello\n"
          ]
        }
      ],
      "source": [
        "a = 10\n",
        "b = 2.5\n",
        "c = \"hello\"\n",
        "\n",
        "print(a)\n",
        "print(b, c)"
      ]
    },
    {
      "cell_type": "code",
      "execution_count": null,
      "metadata": {
        "colab": {
          "base_uri": "https://localhost:8080/"
        },
        "id": "fdxBmDmEo1OI",
        "outputId": "06918f16-d22d-4255-f20c-c4199e6b4f55"
      },
      "outputs": [
        {
          "name": "stdout",
          "output_type": "stream",
          "text": [
            "Hello>World\n",
            "HelloWorld\n",
            "Hello World\n"
          ]
        }
      ],
      "source": [
        "# print without new line\n",
        "\n",
        "print(\"Hello\", end='>')\n",
        "print(\"World\")\n",
        "\n",
        "print(\"Hello\", end='')\n",
        "print(\"World\")\n",
        "\n",
        "print(\"Hello\", end=' ')\n",
        "print(\"World\")"
      ]
    },
    {
      "cell_type": "code",
      "execution_count": null,
      "metadata": {
        "colab": {
          "base_uri": "https://localhost:8080/"
        },
        "id": "7TFr9AC-oXRg",
        "outputId": "dd6d81f4-1408-4b84-8d1e-d43b52e84a20"
      },
      "outputs": [
        {
          "name": "stdout",
          "output_type": "stream",
          "text": [
            "The value of a is 15\n",
            "The value of a={a}\n",
            "The value of a=15\n"
          ]
        }
      ],
      "source": [
        "# Formatting the string\n",
        "a = 15\n",
        "\n",
        "# \"The value of a is 15\"\n",
        "print(\"The value of a is\", a)\n",
        "\n",
        "# \"The value of a=15\"\n",
        "print(\"The value of a={a}\")\n",
        "print(f\"The value of a={a}\")"
      ]
    },
    {
      "cell_type": "markdown",
      "metadata": {
        "id": "5qE5l-Fcq9tQ"
      },
      "source": [
        "Console Input"
      ]
    },
    {
      "cell_type": "code",
      "execution_count": null,
      "metadata": {
        "colab": {
          "base_uri": "https://localhost:8080/"
        },
        "id": "Gylr3VHhq3mg",
        "outputId": "4708c4a5-410c-4a87-965a-480bd4c2e83a"
      },
      "outputs": [
        {
          "name": "stdout",
          "output_type": "stream",
          "text": [
            "10\n",
            "10\n",
            "Enter a value:15\n",
            "15\n"
          ]
        }
      ],
      "source": [
        "x = input()\n",
        "print(x)\n",
        "\n",
        "x = input(\"Enter a value:\")\n",
        "print(x)\n",
        "\n"
      ]
    },
    {
      "cell_type": "code",
      "execution_count": null,
      "metadata": {
        "colab": {
          "base_uri": "https://localhost:8080/"
        },
        "id": "TQlngMkSrsfj",
        "outputId": "7b154db6-ebcd-4cbf-fc0b-fd9ada32afd1"
      },
      "outputs": [
        {
          "name": "stdout",
          "output_type": "stream",
          "text": [
            "10\n",
            "20\n",
            "1020\n"
          ]
        }
      ],
      "source": [
        "x = input()\n",
        "y = input()\n",
        "\n",
        "print(x+y)"
      ]
    },
    {
      "cell_type": "code",
      "execution_count": null,
      "metadata": {
        "colab": {
          "base_uri": "https://localhost:8080/"
        },
        "id": "suemKIRIsBxp",
        "outputId": "8eb95111-9a47-4e46-ae8a-c5a6c3ba0ed6"
      },
      "outputs": [
        {
          "name": "stdout",
          "output_type": "stream",
          "text": [
            "10\n",
            "20\n",
            "30\n"
          ]
        }
      ],
      "source": [
        "x = int(input())\n",
        "y = int(input())\n",
        "\n",
        "print(x+y)"
      ]
    },
    {
      "cell_type": "code",
      "execution_count": null,
      "metadata": {
        "colab": {
          "base_uri": "https://localhost:8080/"
        },
        "id": "n_LB42VWsUcL",
        "outputId": "8294535d-623d-4da8-d621-c3feff126512"
      },
      "outputs": [
        {
          "name": "stdout",
          "output_type": "stream",
          "text": [
            "Enter your name:Mr. D\n",
            "Enter your age:50\n",
            "Enter your height in m:1.72\n",
            "Name: Mr. D Age: 50 Height: 1.72\n"
          ]
        }
      ],
      "source": [
        "name = input(\"Enter your name:\")\n",
        "age = int(input(\"Enter your age:\"))\n",
        "height = float(input(\"Enter your height in m:\"))\n",
        "print(\"Name:\", name, \"Age:\", age, \"Height:\", height)"
      ]
    },
    {
      "cell_type": "markdown",
      "metadata": {
        "id": "51mBaqzdtGKp"
      },
      "source": [
        "Operators"
      ]
    },
    {
      "cell_type": "code",
      "execution_count": null,
      "metadata": {
        "id": "owBpqUOKtGyB"
      },
      "outputs": [],
      "source": [
        "i = 5\n",
        "\n",
        "# i++, i--\n",
        "i = i + 1\n",
        "i += 1\n",
        "\n"
      ]
    },
    {
      "cell_type": "code",
      "execution_count": null,
      "metadata": {
        "colab": {
          "base_uri": "https://localhost:8080/"
        },
        "id": "4KZNjTNvtbLp",
        "outputId": "e71ac533-5147-4feb-ab60-d93e2fef4844"
      },
      "outputs": [
        {
          "data": {
            "text/plain": [
              "32"
            ]
          },
          "execution_count": 21,
          "metadata": {},
          "output_type": "execute_result"
        }
      ],
      "source": [
        "x = 2\n",
        "p = 5\n",
        "\n",
        "x ** p"
      ]
    },
    {
      "cell_type": "markdown",
      "metadata": {
        "id": "JEp7olTSts5J"
      },
      "source": [
        "Make a ft-in to m conversion calculator"
      ]
    },
    {
      "cell_type": "code",
      "execution_count": null,
      "metadata": {
        "id": "v7ZSRs6vt1Ux"
      },
      "outputs": [],
      "source": [
        "print(\"Feet and Inches to Meters Conversion Calculator\")\n",
        "print(\"----------------------------------------------\")\n",
        "x = int(input())\n",
        "y = int(input())\n",
        "\n",
        "z = (x + (y/12))/3.281\n",
        "\n",
        "print(z)\n"
      ]
    },
    {
      "cell_type": "markdown",
      "metadata": {
        "id": "ONZ4PYLet3G4"
      },
      "source": [
        "Condition"
      ]
    },
    {
      "cell_type": "code",
      "execution_count": null,
      "metadata": {
        "colab": {
          "base_uri": "https://localhost:8080/"
        },
        "id": "XXceWtfKt4OK",
        "outputId": "90dfa7b1-5257-47fe-8d63-a2871036b027"
      },
      "outputs": [
        {
          "name": "stdout",
          "output_type": "stream",
          "text": [
            "odd\n",
            "outside if-else\n"
          ]
        }
      ],
      "source": [
        "x = 5\n",
        "\n",
        "# if(condition){\n",
        "# }\n",
        "\n",
        "if x%2==0:\n",
        "  print(\"even\")\n",
        "else:\n",
        "  print('odd')\n",
        "print(\"outside if-else\")"
      ]
    },
    {
      "cell_type": "code",
      "execution_count": null,
      "metadata": {
        "colab": {
          "base_uri": "https://localhost:8080/"
        },
        "id": "UR8ja-h7xmeR",
        "outputId": "44304d27-f11f-4e00-97ea-25f87af57712"
      },
      "outputs": [
        {
          "name": "stdout",
          "output_type": "stream",
          "text": [
            "negative\n"
          ]
        }
      ],
      "source": [
        "x = -7\n",
        "\n",
        "if x>0:\n",
        "  print('positive')\n",
        "elif x==0:\n",
        "  print('zero')\n",
        "else:\n",
        "  print('negative')\n",
        "\n"
      ]
    },
    {
      "cell_type": "code",
      "execution_count": null,
      "metadata": {
        "colab": {
          "base_uri": "https://localhost:8080/"
        },
        "id": "qI8amkVsyigJ",
        "outputId": "b328dad6-d516-407f-cd44-1242f16c67c6"
      },
      "outputs": [
        {
          "name": "stdout",
          "output_type": "stream",
          "text": [
            "15 is between 10 and 20\n"
          ]
        }
      ],
      "source": [
        "x = 15\n",
        "\n",
        "if 10<x and x<20:\n",
        "  print(f'{x} is between 10 and 20')\n",
        "\n",
        "if 10<x<20:\n",
        "  print(f'{x} is between 10 and 20')\n",
        "\n",
        "\n",
        "if x<10 or x>20:\n",
        "  print(f\"{x} is not between 10 and 20\")\n"
      ]
    },
    {
      "cell_type": "code",
      "execution_count": null,
      "metadata": {
        "id": "xW9Xi81lzaDp"
      },
      "outputs": [],
      "source": [
        "# take an integer and check whether that is a leap year or not\n",
        "\n",
        "x = int(input())\n",
        "\n",
        "if x%4 == 0:\n",
        "  if x%100 != 0:\n",
        "    print(\"Leapyear\")\n",
        "else:\n",
        "  print(\"Doesn't leapyear\")"
      ]
    },
    {
      "cell_type": "markdown",
      "metadata": {
        "id": "ypn39d8Jzh45"
      },
      "source": [
        "Looping"
      ]
    },
    {
      "cell_type": "code",
      "execution_count": null,
      "metadata": {
        "colab": {
          "base_uri": "https://localhost:8080/"
        },
        "id": "vbDHxclRzkPy",
        "outputId": "22fcad70-a63e-4edd-ecc4-db084af38635"
      },
      "outputs": [
        {
          "name": "stdout",
          "output_type": "stream",
          "text": [
            "hello\n",
            "hello\n",
            "hello\n",
            "hello\n",
            "hello\n"
          ]
        }
      ],
      "source": [
        "i=0\n",
        "# while(condition){\n",
        "# }\n",
        "\n",
        "while i<5:\n",
        "  print('hello')\n",
        "  i += 1"
      ]
    },
    {
      "cell_type": "code",
      "execution_count": null,
      "metadata": {
        "colab": {
          "base_uri": "https://localhost:8080/"
        },
        "id": "0FT4Rc_61dty",
        "outputId": "fc5a2827-206f-434a-91cf-f75bf1a22846"
      },
      "outputs": [
        {
          "name": "stdout",
          "output_type": "stream",
          "text": [
            "0\n",
            "1\n",
            "2\n",
            "3\n",
            "4\n",
            "4 5 6 7 8 9 \n",
            "0 2 4 6 8 10 12 14 16 18 \n",
            "20 19 18 17 16 15 14 13 \n"
          ]
        }
      ],
      "source": [
        "# for(int i=0; i<5; ++i){\n",
        "# }\n",
        "\n",
        "for i in range(5):\n",
        "  print(i)\n",
        "\n",
        "# for(int i=4; i<10; ++i)\n",
        "for i in range(4, 10):\n",
        "  print(i, end=' ')\n",
        "print()\n",
        "\n",
        "# for(int i=0; i<20; i+=2)\n",
        "for i in range(0, 20, 2):\n",
        "  print(i, end=' ')\n",
        "print()\n",
        "\n",
        "# for(int i=20; i>12; --i)\n",
        "for i in range(20, 12, -1):\n",
        "  print(i, end=' ')\n",
        "print()"
      ]
    },
    {
      "cell_type": "markdown",
      "metadata": {
        "id": "M5MTJF272keD"
      },
      "source": [
        "###Practice problems for Basic Syntax, I/O, Condition, Looping"
      ]
    },
    {
      "cell_type": "markdown",
      "metadata": {
        "id": "Hag8J05X2mAi"
      },
      "source": [
        "**Multiples of 3**: Write a program that prints the numbers that are between 1 to 100 and multiples of three.\n",
        "\n",
        "**Multiples of 3 but not multiple of 5**: Write a program that prints the numbers that are between 1 to 100 and multiples of three but not divisible 5.\n",
        "\n",
        "**Palindrome Checker**: Write a program that checks if a given word or phrase is a palindrome. A palindrome is a word, phrase, number, or other sequence of characters that reads the same forward and backward, ignoring spaces and punctuation.\n",
        "\n",
        "**Fibonacci Sequence**: Write a program that generates the Fibonacci sequence up to a specified number of terms. The Fibonacci sequence starts with 0 and 1, and each subsequent number is the sum of the previous two.\n",
        "\n",
        "**Factorial Calculator**: Write a program that calculates the factorial of a given number. The factorial of a non-negative integer n is the product of all positive integers less than or equal to n.\n",
        "\n",
        "**Prime Number Checker**: Write a program that checks if a given number is prime. A prime number is a natural number greater than 1 that has no positive divisors other than 1 and itself."
      ]
    },
    {
      "cell_type": "code",
      "execution_count": null,
      "metadata": {
        "id": "ewrjWu3E2mzK"
      },
      "outputs": [],
      "source": [
        "'''\n",
        "n=3\n",
        "*\n",
        "**\n",
        "***\n",
        "\n",
        "n=4\n",
        "*\n",
        "**\n",
        "***\n",
        "****\n",
        "'''\n"
      ]
    },
    {
      "cell_type": "code",
      "execution_count": null,
      "metadata": {
        "id": "v8XvzTi28gfy"
      },
      "outputs": [],
      "source": [
        "'''\n",
        "n = 5\n",
        "*********\n",
        "*******\n",
        "*****\n",
        "***\n",
        "*\n",
        "\n",
        "n = 3\n",
        "*****\n",
        "***\n",
        "*\n",
        "'''\n"
      ]
    },
    {
      "cell_type": "code",
      "execution_count": null,
      "metadata": {
        "id": "Xo3QahjS8h1T"
      },
      "outputs": [],
      "source": [
        "'''\n",
        "n=3\n",
        "  *\n",
        " **\n",
        "***\n",
        "\n",
        "n=5\n",
        "    *\n",
        "   **\n",
        "  ***\n",
        " ****\n",
        "*****\n",
        "'''\n"
      ]
    },
    {
      "cell_type": "code",
      "execution_count": null,
      "metadata": {
        "id": "RiLnwgJi8jui"
      },
      "outputs": [],
      "source": [
        "for i in range(1, 100):\n",
        "  if i%3==0:\n",
        "    print(i, end=' ')\n",
        "\n",
        "print()\n",
        "for i in range(3, 100, 3):\n",
        "  print(i, end=' ')"
      ]
    },
    {
      "cell_type": "code",
      "execution_count": null,
      "metadata": {
        "id": "2WRXLOfL8oPi"
      },
      "outputs": [],
      "source": [
        "for i in range(1, 100):\n",
        "  if i%3==0 and i%5!=0:\n",
        "    print(i, end=' ')\n"
      ]
    },
    {
      "cell_type": "markdown",
      "metadata": {
        "id": "IP3QvdhMMNle"
      },
      "source": [
        "**Class 2**"
      ]
    },
    {
      "cell_type": "markdown",
      "metadata": {
        "id": "WjU1OGsv8urD"
      },
      "source": [
        "List"
      ]
    },
    {
      "cell_type": "code",
      "execution_count": null,
      "metadata": {
        "colab": {
          "base_uri": "https://localhost:8080/"
        },
        "id": "BfAu_FCp8sNr",
        "outputId": "b26cf180-bee4-4232-f48a-c2bd4f7a8779"
      },
      "outputs": [
        {
          "name": "stdout",
          "output_type": "stream",
          "text": [
            "5\n"
          ]
        },
        {
          "data": {
            "text/plain": [
              "-6"
            ]
          },
          "execution_count": 36,
          "metadata": {},
          "output_type": "execute_result"
        }
      ],
      "source": [
        "list1 = [10, 20, -6 , 90, 17]\n",
        "\n",
        "print(len(list1))\n",
        "list1[2]"
      ]
    },
    {
      "cell_type": "code",
      "execution_count": null,
      "metadata": {
        "colab": {
          "base_uri": "https://localhost:8080/"
        },
        "id": "I23P44tR9M7l",
        "outputId": "bc2003cd-ea33-49dc-bf42-c00baa5e0440"
      },
      "outputs": [
        {
          "name": "stdout",
          "output_type": "stream",
          "text": [
            "10 20 -6 90 17 \n",
            "[10, 20, -6, 90, 17]\n"
          ]
        }
      ],
      "source": [
        "list1 = [10, 20, -6 , 90, 17]\n",
        "\n",
        "for i in range(len(list1)):\n",
        "  print(list1[i], end=' ')\n",
        "\n",
        "print()\n",
        "print(list1)"
      ]
    },
    {
      "cell_type": "code",
      "execution_count": null,
      "metadata": {
        "colab": {
          "base_uri": "https://localhost:8080/"
        },
        "id": "0NyqC6Rg9emK",
        "outputId": "2f3c3971-42af-467c-d11e-f2a187a6abf3"
      },
      "outputs": [
        {
          "name": "stdout",
          "output_type": "stream",
          "text": [
            "[10, 20, -5, 9, 0, 85]\n",
            "[10, 20, 100, -5, 9, 0, 85]\n",
            "[10, 20, 100, -5, 0, 85]\n"
          ]
        }
      ],
      "source": [
        "list1 = [10, 20, -5, 9, 0]\n",
        "\n",
        "list1.append(85)\n",
        "print(list1)\n",
        "\n",
        "list1.insert(2, 100)\n",
        "print(list1)\n",
        "\n",
        "list1.remove(9)\n",
        "print(list1)"
      ]
    },
    {
      "cell_type": "code",
      "execution_count": null,
      "metadata": {
        "id": "F5z_OgP896Ha"
      },
      "outputs": [],
      "source": [
        "list2 = [10, \"world\", 120, 20.5, \"hello\"]"
      ]
    },
    {
      "cell_type": "code",
      "execution_count": null,
      "metadata": {
        "colab": {
          "base_uri": "https://localhost:8080/"
        },
        "id": "o8SieU9L-BLr",
        "outputId": "1da02a7c-67f5-498a-8022-3c89274bb6e7"
      },
      "outputs": [
        {
          "name": "stdout",
          "output_type": "stream",
          "text": [
            "[100, -5, 9, 0]\n"
          ]
        }
      ],
      "source": [
        "list1 = [10, 20, 100, -5, 9, 0, 85]\n",
        "\n",
        "sublist1 = list1[2:6] # slicing\n",
        "print(sublist1)"
      ]
    },
    {
      "cell_type": "code",
      "execution_count": null,
      "metadata": {
        "colab": {
          "base_uri": "https://localhost:8080/"
        },
        "id": "HsjVOCRB-RbT",
        "outputId": "eb1ba0eb-999a-47d3-d552-bbb4b842161b"
      },
      "outputs": [
        {
          "name": "stdout",
          "output_type": "stream",
          "text": [
            "100\n",
            "0\n"
          ]
        }
      ],
      "source": [
        "list1 = [10, 20, 100, -5, 9, 0, 85]\n",
        "print(list1[2])\n",
        "print(list1[-2])"
      ]
    },
    {
      "cell_type": "code",
      "execution_count": null,
      "metadata": {
        "colab": {
          "base_uri": "https://localhost:8080/"
        },
        "id": "vXC_tsjwukat",
        "outputId": "678b6de6-03e4-43d0-a6d4-7208ad19d752"
      },
      "outputs": [
        {
          "name": "stdout",
          "output_type": "stream",
          "text": [
            "[-5, 0, 9, 10, 20, 85, 100]\n"
          ]
        }
      ],
      "source": [
        "list1 = [10, 20, 100, -5, 9, 0, 85]\n",
        "\n",
        "list1.sort()\n",
        "print(list1)"
      ]
    },
    {
      "cell_type": "code",
      "execution_count": null,
      "metadata": {
        "colab": {
          "base_uri": "https://localhost:8080/"
        },
        "id": "psKdvYdIuvdP",
        "outputId": "e9f4148e-02ed-44fb-9ade-7773c8fa2209"
      },
      "outputs": [
        {
          "name": "stdout",
          "output_type": "stream",
          "text": [
            "[100, 85, 20, 10, 9, 0, -5]\n"
          ]
        }
      ],
      "source": [
        "list1 = [10, 20, 100, -5, 9, 0, 85]\n",
        "\n",
        "list1.sort(reverse=True)\n",
        "print(list1)"
      ]
    },
    {
      "cell_type": "code",
      "execution_count": null,
      "metadata": {
        "colab": {
          "base_uri": "https://localhost:8080/"
        },
        "id": "niw_7DwdvBZ8",
        "outputId": "23d8d3ed-e7a7-420b-e7a6-52af94ab3c2b"
      },
      "outputs": [
        {
          "data": {
            "text/plain": [
              "[10, 11, -5, 5, -6, 1]"
            ]
          },
          "execution_count": 3,
          "metadata": {},
          "output_type": "execute_result"
        }
      ],
      "source": [
        "list1 = [10, 11, -5]\n",
        "list2 = [5, -6, 1]\n",
        "\n",
        "list1 + list2"
      ]
    },
    {
      "cell_type": "code",
      "execution_count": null,
      "metadata": {
        "colab": {
          "base_uri": "https://localhost:8080/"
        },
        "id": "kzkcKl3vvFe3",
        "outputId": "fbca1840-c2c3-4aa4-b3db-83c997056e5d"
      },
      "outputs": [
        {
          "data": {
            "text/plain": [
              "[10, 11, -5, 5, -6, 1]"
            ]
          },
          "execution_count": 6,
          "metadata": {},
          "output_type": "execute_result"
        }
      ],
      "source": [
        "list1 = [10, 11, -5]\n",
        "list2 = [5, -6, 1]\n",
        "\n",
        "list1.extend(list2)\n",
        "list1"
      ]
    },
    {
      "cell_type": "markdown",
      "metadata": {
        "id": "Bgnv-J8LvPB3"
      },
      "source": [
        "Function"
      ]
    },
    {
      "cell_type": "code",
      "execution_count": null,
      "metadata": {
        "id": "cvQWRU17vQOz"
      },
      "outputs": [],
      "source": [
        "# int functionname(int x, float y){\n",
        "#     return 0;\n",
        "# }\n",
        "\n",
        "def functionname(x, y):\n",
        "  return 0"
      ]
    },
    {
      "cell_type": "code",
      "execution_count": null,
      "metadata": {
        "colab": {
          "base_uri": "https://localhost:8080/"
        },
        "id": "5nFywHzywmfY",
        "outputId": "9cd066f4-73f6-418e-e960-b7da81a8d1a5"
      },
      "outputs": [
        {
          "name": "stdout",
          "output_type": "stream",
          "text": [
            "hello\n"
          ]
        }
      ],
      "source": [
        "def printHello():\n",
        "  print('hello')\n",
        "\n",
        "printHello()"
      ]
    },
    {
      "cell_type": "code",
      "execution_count": null,
      "metadata": {
        "colab": {
          "base_uri": "https://localhost:8080/"
        },
        "id": "2nV4IcO1xaZE",
        "outputId": "77942c61-229c-4fa5-d087-069a70a99377"
      },
      "outputs": [
        {
          "name": "stdout",
          "output_type": "stream",
          "text": [
            "100\n"
          ]
        }
      ],
      "source": [
        "def squarefn(x):\n",
        "  return x*x\n",
        "\n",
        "y = squarefn(10)\n",
        "print(y)"
      ]
    },
    {
      "cell_type": "code",
      "execution_count": null,
      "metadata": {
        "colab": {
          "base_uri": "https://localhost:8080/"
        },
        "id": "4PckJCikx2_c",
        "outputId": "6d3cdf31-6b75-4daf-e6a5-2c14b7af452b"
      },
      "outputs": [
        {
          "data": {
            "text/plain": [
              "True"
            ]
          },
          "execution_count": 16,
          "metadata": {},
          "output_type": "execute_result"
        }
      ],
      "source": [
        "def isPrime(n):\n",
        "  for i in range(2, n):\n",
        "    if n%i==0:\n",
        "      return False\n",
        "  return True\n",
        "\n",
        "isPrime(73)\n",
        "isPrime(86)"
      ]
    },
    {
      "cell_type": "code",
      "execution_count": null,
      "metadata": {
        "colab": {
          "base_uri": "https://localhost:8080/"
        },
        "id": "CzER-5hrwuKu",
        "outputId": "d0fe55a9-85c6-4eaf-9d83-eb217643740b"
      },
      "outputs": [
        {
          "name": "stdout",
          "output_type": "stream",
          "text": [
            "Name: Mr.Z, Age: 35, CGPA: 3.87\n",
            "Name: Mr.Z, Age: 35, CGPA: N/A\n",
            "Name: Mr.Z, Age: N/A, CGPA: N/A\n"
          ]
        }
      ],
      "source": [
        "# Default Arguments\n",
        "def printInfo(name, age='N/A', cgpa='N/A'):\n",
        "  print(f'Name: {name}, Age: {age}, CGPA: {cgpa}')\n",
        "\n",
        "printInfo(\"Mr.Z\", 35, 3.87)\n",
        "printInfo(\"Mr.Z\", 35)\n",
        "printInfo(\"Mr.Z\")\n",
        "# printInfo()\n",
        "\n"
      ]
    },
    {
      "cell_type": "code",
      "execution_count": null,
      "metadata": {
        "colab": {
          "base_uri": "https://localhost:8080/"
        },
        "id": "LOgV1y6O1pmR",
        "outputId": "8062700a-8207-4b80-e7cf-e7c2cf5f24a0"
      },
      "outputs": [
        {
          "name": "stdout",
          "output_type": "stream",
          "text": [
            "Name: Mr.Z, Age: 35, CGPA: 3.87\n",
            "Name: Mr.Z, Age: 35, CGPA: N/A\n"
          ]
        }
      ],
      "source": [
        "# Keyword/Named Arguments\n",
        "def printInfo(name, age, cgpa='N/A'):\n",
        "  print(f'Name: {name}, Age: {age}, CGPA: {cgpa}')\n",
        "\n",
        "printInfo(age=35, cgpa=3.87, name=\"Mr.Z\")\n",
        "printInfo(age=35, name=\"Mr.Z\")\n",
        "# printInfo()\n",
        "\n"
      ]
    },
    {
      "cell_type": "markdown",
      "metadata": {
        "id": "v_fRCo7M2ZMe"
      },
      "source": [
        "Tuple"
      ]
    },
    {
      "cell_type": "code",
      "execution_count": null,
      "metadata": {
        "colab": {
          "base_uri": "https://localhost:8080/"
        },
        "id": "dHQmhMib2aPE",
        "outputId": "b3c07026-2117-4a34-c0ef-ccda9277a452"
      },
      "outputs": [
        {
          "name": "stdout",
          "output_type": "stream",
          "text": [
            "(1, 2, 3)\n",
            "1 2 3\n"
          ]
        },
        {
          "data": {
            "text/plain": [
              "3"
            ]
          },
          "execution_count": 28,
          "metadata": {},
          "output_type": "execute_result"
        }
      ],
      "source": [
        "t1 = (1,2,3)\n",
        "\n",
        "print(t1)\n",
        "\n",
        "x, y, z = t1\n",
        "\n",
        "print(x, y, z)\n",
        "\n",
        "t1[2]"
      ]
    },
    {
      "cell_type": "markdown",
      "metadata": {
        "id": "ZaW2_HJW209l"
      },
      "source": [
        "Dictionary"
      ]
    },
    {
      "cell_type": "code",
      "execution_count": null,
      "metadata": {
        "colab": {
          "base_uri": "https://localhost:8080/"
        },
        "id": "9iz2x20g21U0",
        "outputId": "d42d392e-2896-4db3-ed41-639c5faace85"
      },
      "outputs": [
        {
          "name": "stdout",
          "output_type": "stream",
          "text": [
            "3.85\n",
            "3.9\n",
            "jane exists\n",
            "{'joseph': 3.85, 'alex': 3.2, 'john': 3.9, 'jane': 3.5, 'doe': 3.65}\n",
            "jane exists\n",
            "doe exists\n",
            "{'joseph': 3.85, 'alex': 3.2, 'john': 3.9, 'doe': 3.65}\n",
            "doe exists\n"
          ]
        }
      ],
      "source": [
        "name_dict = {\n",
        "    \"joseph\": 3.85,\n",
        "    \"alex\": 3.2,\n",
        "    \"john\": 3.9,\n",
        "    \"jane\": 3.5\n",
        "}\n",
        "\n",
        "print(name_dict[\"joseph\"])\n",
        "print(name_dict[\"john\"])\n",
        "\n",
        "if \"jane\" in name_dict:\n",
        "  print(\"jane exists\")\n",
        "if \"doe\" in name_dict:\n",
        "  print(\"doe exists\")\n",
        "\n",
        "name_dict[\"doe\"] = 3.65\n",
        "print(name_dict)\n",
        "\n",
        "if \"jane\" in name_dict:\n",
        "  print(\"jane exists\")\n",
        "if \"doe\" in name_dict:\n",
        "  print(\"doe exists\")\n",
        "\n",
        "name_dict.pop(\"jane\")\n",
        "print(name_dict)\n",
        "\n",
        "if \"jane\" in name_dict:\n",
        "  print(\"jane exists\")\n",
        "if \"doe\" in name_dict:\n",
        "  print(\"doe exists\")\n"
      ]
    },
    {
      "cell_type": "code",
      "execution_count": null,
      "metadata": {
        "colab": {
          "base_uri": "https://localhost:8080/"
        },
        "id": "AbLkJuQU3-Ad",
        "outputId": "024bbbb0-a127-45dc-8fd3-80a596b21851"
      },
      "outputs": [
        {
          "name": "stdout",
          "output_type": "stream",
          "text": [
            "joseph -> 3.85\n",
            "alex -> 3.2\n",
            "john -> 3.9\n",
            "jane -> 3.5\n",
            "joseph -> 3.85\n",
            "alex -> 3.2\n",
            "john -> 3.9\n",
            "jane -> 3.5\n"
          ]
        }
      ],
      "source": [
        "name_dict = {\n",
        "    \"joseph\": 3.85,\n",
        "    \"alex\": 3.2,\n",
        "    \"john\": 3.9,\n",
        "    \"jane\": 3.5\n",
        "}\n",
        "\n",
        "for k in name_dict.keys():\n",
        "  print(k, '->', name_dict[k])\n",
        "\n",
        "for k,v in name_dict.items():\n",
        "  print(k, '->', v)"
      ]
    },
    {
      "cell_type": "code",
      "execution_count": null,
      "metadata": {
        "colab": {
          "base_uri": "https://localhost:8080/"
        },
        "id": "ZQFirSCS5RBV",
        "outputId": "19ae5fae-99c3-4a2f-a1c7-2ba68a2b2aff"
      },
      "outputs": [
        {
          "name": "stdout",
          "output_type": "stream",
          "text": [
            "{3: 4, 4: 2, 0: 1, 1: 1, 2: 1, 7: 2, 8: 1}\n"
          ]
        }
      ],
      "source": [
        "list_int = [3, 4, 3, 0, 1, 3, 3, 4, 2, 7, 8, 7]\n",
        "\n",
        "count_dict = {}\n",
        "\n",
        "\n",
        "for v in list_int:\n",
        "  if v in count_dict:\n",
        "    count_dict[v] += 1\n",
        "  else:\n",
        "    count_dict[v] = 1\n",
        "\n",
        "print(count_dict)"
      ]
    },
    {
      "cell_type": "code",
      "execution_count": null,
      "metadata": {
        "colab": {
          "base_uri": "https://localhost:8080/"
        },
        "id": "ppkNpZh276ym",
        "outputId": "ac0d58a8-3be5-428a-c62d-7ae7c0aeee2d"
      },
      "outputs": [
        {
          "name": "stdout",
          "output_type": "stream",
          "text": [
            "500\n",
            "-50\n"
          ]
        }
      ],
      "source": [
        "ar = [10, -5, 455, 299, -50, 365, 500, 75]\n",
        "print(max(ar))\n",
        "print(min(ar))\n"
      ]
    },
    {
      "cell_type": "markdown",
      "metadata": {
        "id": "X_XmC3lr7_3W"
      },
      "source": [
        "public class Student {\n",
        "    String first_name;\n",
        "    String last_name;\n",
        "    double cgpa;\n",
        "    int age;\n",
        "\n",
        "    Student(String fname, String lname, double cgpa, int age){\n",
        "        first_name = fname;\n",
        "        last_name = lname;\n",
        "        this.cgpa = cgpa;\n",
        "        this.age = age;\n",
        "    }\n",
        "\n",
        "    void printFullname(){\n",
        "        println(first_name + last_name)\n",
        "        println(this.first_name + this.last_name)\n",
        "    }\n",
        "}\n",
        "\n",
        "obj = new Student(\"A\", \"B\", 3.8, 22)"
      ]
    },
    {
      "cell_type": "code",
      "execution_count": null,
      "metadata": {
        "colab": {
          "base_uri": "https://localhost:8080/"
        },
        "id": "RiuaIpVX8NHu",
        "outputId": "775805ea-1550-4692-ce12-72746db8a99f"
      },
      "outputs": [
        {
          "name": "stdout",
          "output_type": "stream",
          "text": [
            "Mr. Z\n",
            "Ms. Z\n"
          ]
        }
      ],
      "source": [
        "class Student:\n",
        "  def __init__(self, fname, lname, cgpa, age):\n",
        "    self.first_name = fname\n",
        "    self.last_name = lname\n",
        "    self.cgpa = cgpa\n",
        "    self.age = age\n",
        "\n",
        "  def printFullName(self):\n",
        "    print(self.first_name + ' ' + self.last_name)\n",
        "\n",
        "obj = Student(\"Mr.\", \"Z\", 3.88, 45)\n",
        "obj.printFullName()\n",
        "\n",
        "obj.first_name = \"Ms.\"\n",
        "obj.printFullName()"
      ]
    },
    {
      "cell_type": "markdown",
      "metadata": {
        "id": "gBPJOWck95sO"
      },
      "source": [
        "###NumPy"
      ]
    },
    {
      "cell_type": "code",
      "execution_count": null,
      "metadata": {
        "colab": {
          "base_uri": "https://localhost:8080/"
        },
        "id": "B3JMv-oA98AQ",
        "outputId": "8db9183a-8d47-4207-d41d-0475b53cc579"
      },
      "outputs": [
        {
          "data": {
            "text/plain": [
              "array([ 5, -2, 15, 90])"
            ]
          },
          "execution_count": 46,
          "metadata": {},
          "output_type": "execute_result"
        }
      ],
      "source": [
        "import numpy as np\n",
        "\n",
        "a = np.array([5, -2, 15, 90])\n",
        "a"
      ]
    },
    {
      "cell_type": "code",
      "execution_count": null,
      "metadata": {
        "colab": {
          "base_uri": "https://localhost:8080/"
        },
        "id": "wYG_2QolD_AX",
        "outputId": "51b3baad-de48-44a8-c4a6-555614d31e07"
      },
      "outputs": [
        {
          "name": "stdout",
          "output_type": "stream",
          "text": [
            "(9,)\n",
            "(3, 2)\n",
            "3 2\n"
          ]
        }
      ],
      "source": [
        "a = np.array([21,2,-35,-4,5,66,-72,8,9])\n",
        "\n",
        "b = np.array([[1, 4],\n",
        "              [6, 2],\n",
        "              [3, 5]])\n",
        "\n",
        "print(a.shape)\n",
        "print(b.shape)\n",
        "r,c = b.shape\n",
        "print(r,c)"
      ]
    },
    {
      "cell_type": "code",
      "execution_count": null,
      "metadata": {
        "colab": {
          "base_uri": "https://localhost:8080/"
        },
        "id": "_9ET4OiTEYhi",
        "outputId": "4fdedda3-e65b-4a77-f6ab-ea38420fbf70"
      },
      "outputs": [
        {
          "name": "stdout",
          "output_type": "stream",
          "text": [
            "66\n",
            "6\n",
            "Column Wise [6 5]\n",
            "Row Wise [4 6 5]\n",
            "Column Wise [1 2]\n",
            "Row Wise [1 2 3]\n",
            "Column Wise [10 11]\n",
            "Row Wise [5 8 8]\n",
            "Column Wise [3.33333333 3.66666667]\n",
            "Row Wise [2.5 4.  4. ]\n"
          ]
        }
      ],
      "source": [
        "a = np.array([21,2,-35,-4,5,66,-72,8,9])\n",
        "\n",
        "b = np.array([[1, 4],\n",
        "              [6, 2],\n",
        "              [3, 5]])\n",
        "\n",
        "print(a.max())\n",
        "print(b.max())\n",
        "\n",
        "print(\"Column Wise\", b.max(axis = 0))\n",
        "print(\"Row Wise\", b.max(axis = 1))\n",
        "\n",
        "print(\"Column Wise\", b.min(axis = 0))\n",
        "print(\"Row Wise\", b.min(axis = 1))\n",
        "\n",
        "print(\"Column Wise\", b.sum(axis = 0))\n",
        "print(\"Row Wise\", b.sum(axis = 1))\n",
        "\n",
        "print(\"Column Wise\", b.mean(axis = 0))\n",
        "print(\"Row Wise\", b.mean(axis = 1))"
      ]
    },
    {
      "cell_type": "code",
      "execution_count": null,
      "metadata": {
        "colab": {
          "base_uri": "https://localhost:8080/"
        },
        "id": "9IrKDFKIFKvo",
        "outputId": "192808bc-7651-4891-9cfa-7355aecdddc4"
      },
      "outputs": [
        {
          "name": "stdout",
          "output_type": "stream",
          "text": [
            "[[10  7  4]\n",
            " [10  3  6]]\n",
            "[[-8  3  2]\n",
            " [-2  1  6]]\n",
            "[[ 9 10  3]\n",
            " [24  2  0]]\n",
            "[[0.11111111 2.5        3.        ]\n",
            " [0.66666667 2.                inf]]\n"
          ]
        },
        {
          "name": "stderr",
          "output_type": "stream",
          "text": [
            "<ipython-input-53-cb2035a12d3c>:11: RuntimeWarning: divide by zero encountered in divide\n",
            "  print(a/b)\n"
          ]
        }
      ],
      "source": [
        "a = np.array([[1,5,3],\n",
        "              [4,2,6]])\n",
        "\n",
        "b = np.array([[9,2,1],\n",
        "              [6,1,0]])\n",
        "\n",
        "\n",
        "print(a+b)\n",
        "print(a-b)\n",
        "print(a*b)\n",
        "print(a/b)"
      ]
    },
    {
      "cell_type": "code",
      "execution_count": null,
      "metadata": {
        "colab": {
          "base_uri": "https://localhost:8080/"
        },
        "id": "e65yDgDkFjuA",
        "outputId": "ba436417-3cd1-4d99-9580-e0027727dac1"
      },
      "outputs": [
        {
          "name": "stdout",
          "output_type": "stream",
          "text": [
            "[[1 4]\n",
            " [2 5]\n",
            " [3 6]]\n",
            "(3, 2)\n",
            "[[14 32]\n",
            " [32 77]]\n"
          ]
        }
      ],
      "source": [
        "a = np.array([[1,2,3],\n",
        "              [4,5,6]])\n",
        "\n",
        "b = np.array([[1,2,3],\n",
        "              [4,5,6]])\n",
        "\n",
        "print(b.T)\n",
        "print(b.T.shape)\n",
        "\n",
        "c = np.matmul(a, b.T)\n",
        "print(c)"
      ]
    },
    {
      "cell_type": "code",
      "execution_count": null,
      "metadata": {
        "colab": {
          "base_uri": "https://localhost:8080/"
        },
        "id": "rULvuZTEGBwv",
        "outputId": "1b42284b-6eb5-412b-f8a9-f11cf22bdcca"
      },
      "outputs": [
        {
          "name": "stdout",
          "output_type": "stream",
          "text": [
            "5\n",
            "2\n",
            "Column Wise [1 2]\n",
            "Row Wise [1 0 1]\n"
          ]
        }
      ],
      "source": [
        "a = np.array([21,2,-35,-4,5,66,-72,8,9])\n",
        "\n",
        "b = np.array([[1, 4],\n",
        "              [6, 2],\n",
        "              [3, 5]])\n",
        "\n",
        "print(a.argmax())\n",
        "print(b.argmax())\n",
        "\n",
        "print(\"Column Wise\", b.argmax(axis = 0))\n",
        "print(\"Row Wise\", b.argmax(axis = 1))\n"
      ]
    },
    {
      "cell_type": "code",
      "execution_count": null,
      "metadata": {
        "colab": {
          "base_uri": "https://localhost:8080/"
        },
        "id": "zaTJpn0jGuVw",
        "outputId": "c6672fdb-dea9-4f1c-ff02-760f5538d8d8"
      },
      "outputs": [
        {
          "data": {
            "text/plain": [
              "array([[3, 5],\n",
              "       [5, 7]])"
            ]
          },
          "execution_count": 57,
          "metadata": {},
          "output_type": "execute_result"
        }
      ],
      "source": [
        "# Broadcasting\n",
        "\n",
        "a = np.array(\n",
        "    [[1,2],\n",
        "     [3,4]]\n",
        ")\n",
        "b = np.array(\n",
        "    [2,3]\n",
        ")\n",
        "\n",
        "a+b"
      ]
    },
    {
      "cell_type": "code",
      "execution_count": null,
      "metadata": {
        "colab": {
          "base_uri": "https://localhost:8080/"
        },
        "id": "7ff2-dj9HP-X",
        "outputId": "09562eef-4f0e-441e-bfe0-678904597910"
      },
      "outputs": [
        {
          "name": "stdout",
          "output_type": "stream",
          "text": [
            "-1\n",
            "[[ 1  4  9 10]\n",
            " [ 6  2 -1 -8]]\n",
            "[[ 1  4  9 10]\n",
            " [ 6  2 -1 -8]]\n",
            "[[ 4  9]\n",
            " [ 2 -1]\n",
            " [-5  2]\n",
            " [ 5 12]]\n",
            "[10 -8 15 -5]\n"
          ]
        }
      ],
      "source": [
        "b = np.array([[1, 4, 9, 10],\n",
        "              [6, 2, -1, -8],\n",
        "              [3, -5, 2, 15],\n",
        "              [31, 5, 12, -5]])\n",
        "\n",
        "\n",
        "print(b[1][2])\n",
        "print(b[0:2]) # first two rows\n",
        "print(b[0:2, :]) # first two rows\n",
        "print(b[:, 1:3]) # middle two columns\n",
        "print(b[:, -1]) # last column\n",
        "print(b[:, -2:]) # last two columns\n",
        "print(b[:, 2:]) # after first two columns\n",
        "print(b[1:3, 1:4]) # middle 4 elements\n"
      ]
    },
    {
      "cell_type": "code",
      "execution_count": null,
      "metadata": {
        "colab": {
          "base_uri": "https://localhost:8080/"
        },
        "id": "NCRDJL0RIoou",
        "outputId": "c2ba9b8f-5432-449c-9e78-7806bb2e5420"
      },
      "outputs": [
        {
          "name": "stdout",
          "output_type": "stream",
          "text": [
            "(7,)\n"
          ]
        },
        {
          "data": {
            "text/plain": [
              "array([[ 3],\n",
              "       [-5],\n",
              "       [ 2],\n",
              "       [-8],\n",
              "       [ 9],\n",
              "       [ 0],\n",
              "       [ 7]])"
            ]
          },
          "execution_count": 63,
          "metadata": {},
          "output_type": "execute_result"
        }
      ],
      "source": [
        "a = np.array([3, -5, 2, -8, 9, 0, 7])\n",
        "\n",
        "print(a.shape)\n",
        "\n",
        "a.reshape((1, 7))\n",
        "a.reshape((7, 1))"
      ]
    },
    {
      "cell_type": "code",
      "execution_count": null,
      "metadata": {
        "colab": {
          "base_uri": "https://localhost:8080/"
        },
        "id": "JeodUg1cJAdm",
        "outputId": "2e4a2977-faea-4d81-b2bb-7c2ef8af03a7"
      },
      "outputs": [
        {
          "name": "stdout",
          "output_type": "stream",
          "text": [
            "(4,)\n"
          ]
        },
        {
          "data": {
            "text/plain": [
              "array([[ 3, -5],\n",
              "       [ 2, -8]])"
            ]
          },
          "execution_count": 66,
          "metadata": {},
          "output_type": "execute_result"
        }
      ],
      "source": [
        "a = np.array([3, -5, 2, -8])\n",
        "\n",
        "print(a.shape)\n",
        "\n",
        "a.reshape((2, 2))\n",
        "a.reshape((2, 2)).T"
      ]
    },
    {
      "cell_type": "markdown",
      "metadata": {
        "id": "oXGPec2hJXUJ"
      },
      "source": [
        "Filtering"
      ]
    },
    {
      "cell_type": "code",
      "execution_count": null,
      "metadata": {
        "colab": {
          "base_uri": "https://localhost:8080/"
        },
        "id": "jnbKg87kJXp_",
        "outputId": "b5a414bb-8fa0-49ad-eaf4-6d4d899d297a"
      },
      "outputs": [
        {
          "name": "stdout",
          "output_type": "stream",
          "text": [
            "a [ 3 -5  2 -8  9  0  7]\n",
            "a[[True, False, False, True, True, False, True]] [ 3 -8  9  7]\n",
            "a>5 [False False False False  True False  True]\n",
            "a[a>5] [9 7]\n",
            "a[a<2] [-5 -8  0]\n"
          ]
        }
      ],
      "source": [
        "a = np.array([3, -5, 2, -8, 9, 0, 7])\n",
        "\n",
        "print(\"a\", a)\n",
        "\n",
        "print(\"a[[True, False, False, True, True, False, True]]\", a[[True, False, False, True, True, False, True]])\n",
        "\n",
        "print(\"a>5\", a>5)\n",
        "\n",
        "print(\"a[a>5]\", a[a>5])\n",
        "print(\"a[a<2]\", a[a<2])\n"
      ]
    }
  ],
  "metadata": {
    "colab": {
      "authorship_tag": "ABX9TyOqwhj1pYUN3XtM5jjB6rv/",
      "include_colab_link": true,
      "provenance": []
    },
    "kernelspec": {
      "display_name": "Python 3",
      "name": "python3"
    },
    "language_info": {
      "name": "python"
    }
  },
  "nbformat": 4,
  "nbformat_minor": 0
}
